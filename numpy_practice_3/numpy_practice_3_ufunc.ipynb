{
 "cells": [
  {
   "cell_type": "code",
   "execution_count": 1,
   "id": "61985e7f",
   "metadata": {},
   "outputs": [
    {
     "name": "stdout",
     "output_type": "stream",
     "text": [
      "[6 8 10 12]\n"
     ]
    }
   ],
   "source": [
    "#ufunc\n",
    "import numpy as np\n",
    "\n",
    "def myadd(x, y):\n",
    "  return x+y\n",
    "\n",
    "myadd = np.frompyfunc(myadd, 2, 1)\n",
    "\n",
    "print(myadd([1, 2, 3, 4], [5, 6, 7, 8]))"
   ]
  },
  {
   "cell_type": "code",
   "execution_count": 9,
   "id": "c365bee9",
   "metadata": {},
   "outputs": [
    {
     "name": "stdout",
     "output_type": "stream",
     "text": [
      "[15 18 21 24 27]\n",
      "[5 6 7 8 9]\n",
      "[ 50  72  98 128 162]\n",
      "[2. 2. 2. 2. 2.]\n",
      "[   100000   2985984 105413504         0 790794752]\n",
      "[0 0 0 0 0]\n"
     ]
    }
   ],
   "source": [
    "#Simple Arithmetic\n",
    "\n",
    "import numpy as np\n",
    "arr1 = np.array([10,12,14,16,18])\n",
    "arr2 = np.array([5,6,7,8,9])\n",
    "\n",
    "#Addition\n",
    "newarr = np.add(arr1,arr2)\n",
    "print(newarr)\n",
    "\n",
    "#Subtraction\n",
    "newarr1 = np.subtract(arr1,arr2)\n",
    "print(newarr1)\n",
    "\n",
    "#Multiplication\n",
    "newarr2 = np.multiply(arr1,arr2)\n",
    "print(newarr2)\n",
    "\n",
    "#division\n",
    "newarr3 = np.divide(arr1,arr2)\n",
    "print(newarr3)\n",
    "\n",
    "#power\n",
    "newarr4 = np.power(arr1,arr2)\n",
    "print(newarr4)\n",
    "\n",
    "#remainder\n",
    "newarr5 = np.mod(arr1,arr2)\n",
    "print(newarr5)"
   ]
  },
  {
   "cell_type": "code",
   "execution_count": 15,
   "id": "d8cb389d",
   "metadata": {},
   "outputs": [
    {
     "name": "stdout",
     "output_type": "stream",
     "text": [
      "[-3.  3.]\n",
      "[-3.  3.]\n",
      "[-3.  4.]\n",
      "[-4.  3.]\n",
      "[-3.  4.]\n"
     ]
    }
   ],
   "source": [
    "#Rounding Decimals\n",
    "\n",
    "# Rounding Decimals\n",
    "# There are primarily five ways of rounding off decimals in NumPy:\n",
    "\n",
    "# truncation\n",
    "# fix\n",
    "# rounding\n",
    "# floor\n",
    "# ceil\n",
    "\n",
    "import numpy as np\n",
    "\n",
    "arr = np.trunc([-3.1666, 3.6667])\n",
    "print(arr)\n",
    "\n",
    "arr = np.fix([-3.1666, 3.6667])\n",
    "print(arr)\n",
    "\n",
    "arr = np.around([-3.1666, 3.6667])\n",
    "print(arr)\n",
    "\n",
    "arr = np.floor([-3.1666, 3.6667])\n",
    "print(arr)\n",
    "\n",
    "arr = np.ceil([-3.1666, 3.6667])\n",
    "print(arr)"
   ]
  },
  {
   "cell_type": "code",
   "execution_count": 21,
   "id": "0b12e8ea",
   "metadata": {},
   "outputs": [
    {
     "name": "stdout",
     "output_type": "stream",
     "text": [
      "[1 2 3 4 5 6 7 8 9]\n",
      "[0.         0.69314718 1.09861229 1.38629436 1.60943791 1.79175947\n",
      " 1.94591015 2.07944154 2.19722458]\n",
      "[0.         1.         1.5849625  2.         2.32192809 2.5849625\n",
      " 2.80735492 3.         3.169925  ]\n",
      "[0.         0.30103    0.47712125 0.60205999 0.69897    0.77815125\n",
      " 0.84509804 0.90308999 0.95424251]\n"
     ]
    }
   ],
   "source": [
    "#NumPy Logs\n",
    "\n",
    "# Log at Base 2\n",
    "# Use the log2() function to perform log at the base 2.\n",
    "\n",
    "import numpy as np\n",
    "\n",
    "arr = np.arange(1,10)\n",
    "print(arr)\n",
    "\n",
    "print(np.log(arr))\n",
    "\n",
    "print(np.log2(arr))\n",
    "\n",
    "print(np.log10(arr))\n"
   ]
  },
  {
   "cell_type": "code",
   "execution_count": 29,
   "id": "ae1a0364",
   "metadata": {},
   "outputs": [
    {
     "name": "stdout",
     "output_type": "stream",
     "text": [
      "12\n",
      "[6 6]\n",
      "36\n",
      "[6 6]\n",
      "[[1 1]\n",
      " [1 1]]\n"
     ]
    }
   ],
   "source": [
    "#Summations\n",
    "import numpy as np\n",
    "\n",
    "arr1 = np.array([1, 2, 3])\n",
    "arr2 = np.array([1, 2, 3])\n",
    "\n",
    "newarr = np.sum([arr1, arr2])\n",
    "\n",
    "print(newarr)\n",
    "\n",
    "#Summation Over an Axis\n",
    "newarr = np.sum([arr1, arr2],axis=1)\n",
    "print(newarr)\n",
    "\n",
    "#product\n",
    "\n",
    "newarr = np.prod([arr1, arr2])\n",
    "\n",
    "print(newarr)\n",
    "\n",
    "newarr = np.prod([arr1, arr2], axis=1)\n",
    "\n",
    "print(newarr)\n",
    "\n",
    "#Difference\n",
    "newarr = np.diff([arr1, arr2], axis=1)\n",
    "\n",
    "print(newarr)"
   ]
  },
  {
   "cell_type": "code",
   "execution_count": 33,
   "id": "560e0f44",
   "metadata": {},
   "outputs": [
    {
     "name": "stdout",
     "output_type": "stream",
     "text": [
      "12\n",
      "120\n"
     ]
    }
   ],
   "source": [
    "#Finding LCM (Lowest Common Multiple) \n",
    "\n",
    "import numpy as np\n",
    "\n",
    "num1 = 4\n",
    "num2 = 6\n",
    "\n",
    "x = np.lcm(num1, num2)\n",
    "\n",
    "print(x)\n",
    "\n",
    "arr = np.array([2,4,6,8,10])\n",
    "print(np.lcm.reduce(arr))"
   ]
  },
  {
   "cell_type": "code",
   "execution_count": 34,
   "id": "0f06b152",
   "metadata": {},
   "outputs": [
    {
     "name": "stdout",
     "output_type": "stream",
     "text": [
      "3\n",
      "1\n",
      "2\n"
     ]
    }
   ],
   "source": [
    "#Finding GCD (Greatest Common Denominator)\n",
    "\n",
    "import numpy as np\n",
    "\n",
    "num1 = 6\n",
    "num2 = 9\n",
    "\n",
    "x = np.gcd(num1, num2)\n",
    "\n",
    "print(x)\n",
    "\n",
    "print(np.gcd(3,4))\n",
    "\n",
    "arr = np.array([2,4,6,8,10])\n",
    "print(np.gcd.reduce(arr))"
   ]
  },
  {
   "cell_type": "code",
   "execution_count": 35,
   "id": "a1bfb833",
   "metadata": {},
   "outputs": [
    {
     "name": "stdout",
     "output_type": "stream",
     "text": [
      "1.0\n",
      "6.123233995736766e-17\n",
      "1.633123935319537e+16\n"
     ]
    }
   ],
   "source": [
    "#NumPy Trigonometric Functions\n",
    "\n",
    "import numpy as np\n",
    "\n",
    "x = np.sin(np.pi/2)\n",
    "\n",
    "print(x)\n",
    "\n",
    "x = np.cos(np.pi/2)\n",
    "\n",
    "print(x)\n",
    "\n",
    "x = np.tan(np.pi/2)\n",
    "\n",
    "print(x)"
   ]
  },
  {
   "cell_type": "code",
   "execution_count": 37,
   "id": "2a615879",
   "metadata": {},
   "outputs": [
    {
     "name": "stdout",
     "output_type": "stream",
     "text": [
      "[1.57079633 3.14159265 4.71238898 6.28318531]\n",
      "[ 90. 180. 270. 360.]\n"
     ]
    }
   ],
   "source": [
    "#Convert Degrees Into Radians\n",
    "\n",
    "arr = np.array([90, 180, 270, 360])\n",
    "\n",
    "x = np.deg2rad(arr)\n",
    "\n",
    "print(x)\n",
    "\n",
    "#Convert Degrees Radians  Into Degrees\n",
    "\n",
    "arr = np.array([np.pi/2, np.pi, 1.5*np.pi, 2*np.pi])\n",
    "\n",
    "x = np.rad2deg(arr)\n",
    "\n",
    "print(x)"
   ]
  },
  {
   "cell_type": "code",
   "execution_count": 38,
   "id": "eaa0dd9e",
   "metadata": {},
   "outputs": [
    {
     "name": "stdout",
     "output_type": "stream",
     "text": [
      "1.5707963267948966\n",
      "0.0\n",
      "0.7853981633974483\n"
     ]
    }
   ],
   "source": [
    "# Finding Angles\n",
    "# Finding angles from values of sine, cos, tan. E.g. sin, cos and tan inverse (arcsin, arccos, arctan).\n",
    "\n",
    "# NumPy provides ufuncs arcsin(), arccos() and arctan() that produce radian values for corresponding sin, cos and tan values given.\n",
    "\n",
    "\n",
    "import numpy as np\n",
    "\n",
    "x = np.arcsin(1.0)\n",
    "\n",
    "print(x)\n",
    "\n",
    "x = np.arccos(1.0)\n",
    "\n",
    "print(x)\n",
    "\n",
    "x = np.arctan(1.0)\n",
    "\n",
    "print(x)"
   ]
  },
  {
   "cell_type": "code",
   "execution_count": 40,
   "id": "1e1fe8b2",
   "metadata": {},
   "outputs": [
    {
     "name": "stdout",
     "output_type": "stream",
     "text": [
      "2.3012989023072947\n",
      "[2.50917848 1.60028686 1.32460909 1.20397209]\n"
     ]
    }
   ],
   "source": [
    "# NumPy Hyperbolic Functions\n",
    "\n",
    "# NumPy provides the ufuncs sinh(), cosh() and tanh() that take values in radians and produce the corresponding sinh, cosh and tanh values..\n",
    "\n",
    "import numpy as np\n",
    "\n",
    "x = np.sinh(np.pi/2)\n",
    "\n",
    "print(x)\n",
    "\n",
    "arr = np.array([np.pi/2, np.pi/3, np.pi/4, np.pi/5])\n",
    "\n",
    "x = np.cosh(arr)\n",
    "\n",
    "print(x)"
   ]
  },
  {
   "cell_type": "code",
   "execution_count": 44,
   "id": "710b4e37",
   "metadata": {},
   "outputs": [
    {
     "name": "stdout",
     "output_type": "stream",
     "text": [
      "[1 2 3 4 5 6 7]\n",
      "[1 2 3 4 5 6]\n",
      "[3 4]\n"
     ]
    }
   ],
   "source": [
    "#NumPy Set Operations\n",
    "\n",
    "# What is a Set\n",
    "# A set in mathematics is a collection of unique elements.\n",
    "\n",
    "# Sets are used for operations involving frequent intersection, union and difference operations.\n",
    "\n",
    "import numpy as np\n",
    "\n",
    "arr = np.array([1, 1, 1, 2, 3, 4, 5, 5, 6, 7])\n",
    "\n",
    "x = np.unique(arr)\n",
    "\n",
    "print(x)\n",
    "\n",
    "#Finding Union\n",
    "\n",
    "arr1 = np.array([1, 2, 3, 4])\n",
    "arr2 = np.array([3, 4, 5, 6])\n",
    "\n",
    "newarr = np.union1d(arr1, arr2)\n",
    "\n",
    "print(newarr)\n",
    "\n",
    "#Finding Intersection\n",
    "\n",
    "import numpy as np\n",
    "\n",
    "arr1 = np.array([1, 2, 3, 4])\n",
    "arr2 = np.array([3, 4, 5, 6])\n",
    "\n",
    "newarr = np.intersect1d(arr1, arr2, assume_unique=True)\n",
    "\n",
    "print(newarr)\n",
    "\n",
    "#Finding Difference\n",
    "\n",
    "set1 = np.array([1, 2, 3, 4])\n",
    "set2 = np.array([3, 4, 5, 6])\n",
    "\n",
    "newarr = np.setdiff1d(set1, set2, assume_unique=True)\n",
    "\n",
    "print(newarr)\n"
   ]
  },
  {
   "cell_type": "code",
   "execution_count": null,
   "id": "9ed14e62",
   "metadata": {},
   "outputs": [],
   "source": []
  }
 ],
 "metadata": {
  "kernelspec": {
   "display_name": "Python 3 (ipykernel)",
   "language": "python",
   "name": "python3"
  },
  "language_info": {
   "codemirror_mode": {
    "name": "ipython",
    "version": 3
   },
   "file_extension": ".py",
   "mimetype": "text/x-python",
   "name": "python",
   "nbconvert_exporter": "python",
   "pygments_lexer": "ipython3",
   "version": "3.10.9"
  }
 },
 "nbformat": 4,
 "nbformat_minor": 5
}
